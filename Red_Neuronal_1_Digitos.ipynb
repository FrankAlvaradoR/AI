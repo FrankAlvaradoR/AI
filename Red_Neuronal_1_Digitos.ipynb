{
  "nbformat": 4,
  "nbformat_minor": 0,
  "metadata": {
    "colab": {
      "provenance": [],
      "gpuType": "T4",
      "authorship_tag": "ABX9TyPMI+ra/kCu8hZ1lmW0PNSm",
      "include_colab_link": true
    },
    "kernelspec": {
      "name": "python3",
      "display_name": "Python 3"
    },
    "language_info": {
      "name": "python"
    },
    "accelerator": "GPU"
  },
  "cells": [
    {
      "cell_type": "markdown",
      "metadata": {
        "id": "view-in-github",
        "colab_type": "text"
      },
      "source": [
        "<a href=\"https://colab.research.google.com/github/FrankAlvaradoR/AI/blob/main/Red_Neuronal_1_Digitos.ipynb\" target=\"_parent\"><img src=\"https://colab.research.google.com/assets/colab-badge.svg\" alt=\"Open In Colab\"/></a>"
      ]
    },
    {
      "cell_type": "code",
      "execution_count": 29,
      "metadata": {
        "id": "zDhclcOYFLfm"
      },
      "outputs": [],
      "source": [
        "!pip install -q tfds-nightly"
      ]
    },
    {
      "cell_type": "code",
      "source": [
        "import os\n",
        "import tensorflow as tf\n",
        "from tensorflow import keras\n",
        "import tensorflow_datasets as tfds\n",
        "import matplotlib.pyplot as plt\n",
        "import numpy as np\n",
        "print(\"TensorFlow version: {}\".format(tf.__version__))\n",
        "print(\"TensorFlow Datasets version: \",tfds.__version__)"
      ],
      "metadata": {
        "id": "mykxIKSdFRXt"
      },
      "execution_count": null,
      "outputs": []
    },
    {
      "cell_type": "code",
      "source": [
        "import tensorflow_datasets as tfds\n",
        "\n",
        "# Cargar el conjunto de datos MNIST y obtener la información del conjunto de entrenamiento\n",
        "datos, informacion = tfds.load('mnist', split='train', with_info=True, as_supervised=True)\n"
      ],
      "metadata": {
        "id": "2lN8Cj_ZLkiS"
      },
      "execution_count": null,
      "outputs": []
    },
    {
      "cell_type": "code",
      "source": [
        "import tensorflow_datasets as tfds\n",
        "\n",
        "# Cargar el conjunto de datos MNIST y obtener la información del conjunto de entrenamiento\n",
        "datos, informacion = tfds.load('mnist', split='train', with_info=True, as_supervised=True)\n",
        "\n",
        "\n",
        "# Crear listas para almacenar las imágenes y las etiquetas\n",
        "imagenes = []\n",
        "etiquetas = []\n",
        "\n",
        "# Iterar sobre el conjunto de datos y acceder a los elementos\n",
        "for ejemplo in datos:\n",
        "    imagen = ejemplo[0]\n",
        "    etiqueta = ejemplo[1]\n",
        "\n",
        "    # Agregar la imagen y la etiqueta a las respectivas listas\n",
        "    imagenes.append(imagen)\n",
        "    etiquetas.append(etiqueta)\n",
        "\n",
        "# Convertir las listas a tensores\n",
        "imagenes = tf.stack(imagenes)\n",
        "etiquetas = tf.stack(etiquetas)"
      ],
      "metadata": {
        "id": "eZL48UXiJCoT"
      },
      "execution_count": 37,
      "outputs": []
    },
    {
      "cell_type": "code",
      "source": [
        "imagenes.shape"
      ],
      "metadata": {
        "id": "ZFJ4e6iqKUxl"
      },
      "execution_count": null,
      "outputs": []
    },
    {
      "cell_type": "code",
      "source": [
        "class_names = ['0','1', '2', '3','4','5','6','7','8','9']"
      ],
      "metadata": {
        "id": "kRDPMVuVGXhl"
      },
      "execution_count": 45,
      "outputs": []
    },
    {
      "cell_type": "code",
      "source": [
        "plt.figure()\n",
        "plt.imshow(imagenes[0])\n",
        "plt.colorbar()\n",
        "plt.grid(False)\n",
        "plt.show()"
      ],
      "metadata": {
        "id": "NfXApFl4KjRh"
      },
      "execution_count": null,
      "outputs": []
    },
    {
      "cell_type": "code",
      "source": [
        "\n",
        "plt.figure(figsize=(10,10))\n",
        "for i in range(25):\n",
        "    plt.subplot(5,5,i+1)\n",
        "    plt.xticks([])\n",
        "    plt.yticks([])\n",
        "    plt.grid(False)\n",
        "    plt.imshow(imagenes[i], cmap=plt.cm.binary)\n",
        "    plt.xlabel(class_names[etiquetas[i]])\n",
        "plt.show()"
      ],
      "metadata": {
        "id": "Y1l8L4sOKotq"
      },
      "execution_count": null,
      "outputs": []
    },
    {
      "cell_type": "code",
      "source": [
        "model = keras.Sequential([\n",
        "    keras.layers.Flatten(input_shape=(28, 28)),\n",
        "    keras.layers.Dense(128, activation='relu'),\n",
        "    keras.layers.Dense(10, activation='softmax')\n",
        "])"
      ],
      "metadata": {
        "id": "1Ty0KUw2GoCi"
      },
      "execution_count": 49,
      "outputs": []
    },
    {
      "cell_type": "code",
      "source": [
        "model.compile(optimizer='adam',\n",
        "              loss='sparse_categorical_crossentropy',\n",
        "              metrics=['accuracy'])"
      ],
      "metadata": {
        "id": "SOusGD_DG6lW"
      },
      "execution_count": 51,
      "outputs": []
    },
    {
      "cell_type": "code",
      "source": [
        "model.fit(imagenes, etiquetas, epochs=10)"
      ],
      "metadata": {
        "id": "HPAX7r7aGrIQ"
      },
      "execution_count": null,
      "outputs": []
    },
    {
      "cell_type": "code",
      "source": [
        "# Cargar el conjunto de datos MNIST y obtener la información del conjunto de entrenamiento\n",
        "datos, informacion = tfds.load('mnist', split='test', with_info=True, as_supervised=True)\n",
        "\n",
        "\n",
        "# Crear listas para almacenar las imágenes y las etiquetas\n",
        "imagenes_test = []\n",
        "etiquetas_test = []\n",
        "\n",
        "# Iterar sobre el conjunto de datos y acceder a los elementos\n",
        "for ejemplo in datos:\n",
        "    imagen = ejemplo[0]\n",
        "    etiqueta = ejemplo[1]\n",
        "\n",
        "    # Agregar la imagen y la etiqueta a las respectivas listas\n",
        "    imagenes_test.append(imagen)\n",
        "    etiquetas_test.append(etiqueta)\n",
        "\n",
        "# Convertir las listas a tensores\n",
        "imagenes_test = tf.stack(imagenes_test)\n",
        "etiquetas_test = tf.stack(etiquetas_test)"
      ],
      "metadata": {
        "id": "lL946bL7L67J"
      },
      "execution_count": 57,
      "outputs": []
    },
    {
      "cell_type": "code",
      "source": [
        "test_loss, test_acc = model.evaluate(imagenes_test,  etiquetas_test, verbose=2)\n",
        "\n",
        "print('\\nTest accuracy:', test_acc)"
      ],
      "metadata": {
        "id": "GWinCLu-MGDr"
      },
      "execution_count": null,
      "outputs": []
    },
    {
      "cell_type": "code",
      "source": [
        "predictions = model.predict(imagenes_test)"
      ],
      "metadata": {
        "id": "lk5W3gF9MLPd"
      },
      "execution_count": null,
      "outputs": []
    },
    {
      "cell_type": "code",
      "source": [
        "predictions[0]"
      ],
      "metadata": {
        "id": "nXys7I0aMODf"
      },
      "execution_count": null,
      "outputs": []
    },
    {
      "cell_type": "code",
      "source": [
        "np.argmax(predictions[0])"
      ],
      "metadata": {
        "id": "8-5LQ-4DMPiJ"
      },
      "execution_count": null,
      "outputs": []
    },
    {
      "cell_type": "code",
      "source": [
        "etiquetas_test[0]"
      ],
      "metadata": {
        "id": "WSIRuJJhMxJx"
      },
      "execution_count": null,
      "outputs": []
    },
    {
      "cell_type": "code",
      "source": [
        "def plot_image(i, predictions_array, true_label, img):\n",
        "  predictions_array, true_label, img = predictions_array, true_label[i], img[i]\n",
        "  plt.grid(False)\n",
        "  plt.xticks([])\n",
        "  plt.yticks([])\n",
        "\n",
        "  plt.imshow(img, cmap=plt.cm.binary)\n",
        "\n",
        "  predicted_label = np.argmax(predictions_array)\n",
        "  if predicted_label == true_label:\n",
        "    color = 'blue'\n",
        "  else:\n",
        "    color = 'red'\n",
        "\n",
        "  plt.xlabel(\"{} {:2.0f}% ({})\".format(class_names[predicted_label],\n",
        "                                100*np.max(predictions_array),\n",
        "                                class_names[true_label]),\n",
        "                                color=color)\n",
        "\n",
        "def plot_value_array(i, predictions_array, true_label):\n",
        "  predictions_array, true_label = predictions_array, true_label[i]\n",
        "  plt.grid(False)\n",
        "  plt.xticks(range(10))\n",
        "  plt.yticks([])\n",
        "  thisplot = plt.bar(range(10), predictions_array, color=\"#777777\")\n",
        "  plt.ylim([0, 1])\n",
        "  predicted_label = np.argmax(predictions_array)\n",
        "\n",
        "  thisplot[predicted_label].set_color('red')\n",
        "  thisplot[true_label].set_color('blue')"
      ],
      "metadata": {
        "id": "uE68LeCbM3Ns"
      },
      "execution_count": 69,
      "outputs": []
    },
    {
      "cell_type": "code",
      "source": [
        "i = 0\n",
        "plt.figure(figsize=(6,3))\n",
        "plt.subplot(1,2,1)\n",
        "plot_image(i, predictions[i], etiquetas_test, imagenes_test)\n",
        "plt.subplot(1,2,2)\n",
        "plot_value_array(i, predictions[i],  etiquetas_test)\n",
        "plt.show()"
      ],
      "metadata": {
        "id": "BVsD8j7EM5TJ"
      },
      "execution_count": null,
      "outputs": []
    },
    {
      "cell_type": "code",
      "source": [
        "# Plot the first X test images, their predicted labels, and the true labels.\n",
        "# Color correct predictions in blue and incorrect predictions in red.\n",
        "num_rows = 5\n",
        "num_cols = 3\n",
        "num_images = num_rows*num_cols\n",
        "plt.figure(figsize=(2*2*num_cols, 2*num_rows))\n",
        "for i in range(num_images):\n",
        "  plt.subplot(num_rows, 2*num_cols, 2*i+1)\n",
        "  plot_image(i, predictions[i], etiquetas_test, imagenes_test)\n",
        "  plt.subplot(num_rows, 2*num_cols, 2*i+2)\n",
        "  plot_value_array(i, predictions[i], etiquetas_test)\n",
        "plt.tight_layout()\n",
        "plt.show()"
      ],
      "metadata": {
        "id": "mEX4kT4nNB1x"
      },
      "execution_count": null,
      "outputs": []
    }
  ]
}
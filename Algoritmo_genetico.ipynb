{
  "nbformat": 4,
  "nbformat_minor": 0,
  "metadata": {
    "colab": {
      "provenance": [],
      "authorship_tag": "ABX9TyMsep2/9XnqH/57pk00iJnh",
      "include_colab_link": true
    },
    "kernelspec": {
      "name": "python3",
      "display_name": "Python 3"
    },
    "language_info": {
      "name": "python"
    }
  },
  "cells": [
    {
      "cell_type": "markdown",
      "metadata": {
        "id": "view-in-github",
        "colab_type": "text"
      },
      "source": [
        "<a href=\"https://colab.research.google.com/github/FrankAlvaradoR/AI/blob/main/Algoritmo_genetico.ipynb\" target=\"_parent\"><img src=\"https://colab.research.google.com/assets/colab-badge.svg\" alt=\"Open In Colab\"/></a>"
      ]
    },
    {
      "cell_type": "code",
      "execution_count": null,
      "metadata": {
        "id": "_phpnU2Dck0C"
      },
      "outputs": [],
      "source": [
        "import numpy as np\n",
        "import random\n",
        "\n",
        "class DNA():\n",
        "  def __init__(self, target, mutation_rate, n_individuals, n_selection, n_generations, verbose = True):\n",
        "    self.target = target\n",
        "    self.mutation_rate = mutation_rate\n",
        "    self.n_individuals = n_individuals\n",
        "    self.n_selection = n_selection\n",
        "    self.n_generations = n_generations\n",
        "    self.verbose = verbose\n",
        "\n",
        "  def create_indivual(self, min=0, max=9):\n",
        "    '''\n",
        "    Crea un individuo\n",
        "    '''\n",
        "    individual = [np.random.randint(min, max) for i in range(len(self.target))]\n",
        "    return individual\n",
        "  \n",
        "  def create_population(self):\n",
        "    '''\n",
        "    Crea una población\n",
        "    '''\n",
        "    population = [self.create_indivual() for i in range(self.n_individuals)]\n",
        "    return population\n",
        "\n",
        "  def fitness(self,individual):\n",
        "    '''\n",
        "    Evaluar individuo\n",
        "    '''\n",
        "    fit=0\n",
        "    for i in range(len(individual)):\n",
        "      if individual[i] == self.target[i]:\n",
        "        fit+=1\n",
        "    return fit\n",
        "\n",
        "  def selection(self, population):\n",
        "    scores=[(self.fitness(i), i) for i in population]\n",
        "    #scores = [(i[0],i[1]) for i in sorted(scores)]\n",
        "    scores = [i[1] for i in sorted(scores)]\n",
        "    selected= scores[len(scores) - self.n_selection :]\n",
        "    return selected\n",
        "\n",
        "  def reproduction(self, population, selected):\n",
        "    point = 0\n",
        "    father = []\n",
        "\n",
        "    for i in range(len(population)):\n",
        "      point = np.random.randint(1,len(self.target) -1)\n",
        "      father = random.sample(selected, 2)\n",
        "      population[i][:point]= father[0][:point]\n",
        "      population[i][point:]= father[1][point:]\n",
        "    \n",
        "    return population\n",
        "\n",
        "  def mutation(self, population):\n",
        "    for i in range(len(population)):\n",
        "      if random.random()<=self.mutation_rate:\n",
        "        point=random.randint(1,len(self.target) -1)\n",
        "        new_value = np.random.randint(0,9)\n",
        "        while new_value == population[i][point]:\n",
        "          new_value = np.random.randint(0,9)\n",
        "        population[i][point] = new_value\n",
        "    return population\n",
        "\n",
        "  def run_geneticalgo(self):\n",
        "    population = self.create_population()\n",
        "    for i in range(self.n_generations):\n",
        "      if self.verbose:\n",
        "        print('______________')\n",
        "        print('Generación: ', i)\n",
        "        print('Población', population)\n",
        "      selected = self.selection(population)\n",
        "      population = self.reproduction(population, selected)\n",
        "      population = self.mutation(population)\n",
        "\n",
        "def main():\n",
        "  target = [1, 0, 0, 1, 0, 1, 1]\n",
        "  model = DNA(target = target, mutation_rate = 0.2, n_individuals = 15, n_selection = 5, n_generations = 500, verbose = True)\n",
        "  model.run_geneticalgo()\n",
        "\n",
        "if __name__==\"__main__\":\n",
        "  main()\n",
        "\n",
        "\n"
      ]
    }
  ]
}
{
  "nbformat": 4,
  "nbformat_minor": 0,
  "metadata": {
    "colab": {
      "provenance": [],
      "authorship_tag": "ABX9TyPwSw5KMJSr03BugOL6xxIB",
      "include_colab_link": true
    },
    "kernelspec": {
      "name": "python3",
      "display_name": "Python 3"
    },
    "language_info": {
      "name": "python"
    }
  },
  "cells": [
    {
      "cell_type": "markdown",
      "metadata": {
        "id": "view-in-github",
        "colab_type": "text"
      },
      "source": [
        "<a href=\"https://colab.research.google.com/github/FrankAlvaradoR/AI/blob/main/RegresionLineal_1variable.ipynb\" target=\"_parent\"><img src=\"https://colab.research.google.com/assets/colab-badge.svg\" alt=\"Open In Colab\"/></a>"
      ]
    },
    {
      "cell_type": "code",
      "execution_count": null,
      "metadata": {
        "id": "2ys2T2S8Gkri"
      },
      "outputs": [],
      "source": [
        "import numpy as np\n",
        "import matplotlib.pyplot as plt\n",
        "\n",
        "# Warm-up exercise\n",
        "def warmUpExercise():\n",
        "    return np.eye(5)\n",
        "\n",
        "# Plot Data\n",
        "def plotData(X, y):\n",
        "    plt.scatter(X, y, marker='x', c='r')\n",
        "    plt.xlabel('Population of City in 10,000s')\n",
        "    plt.ylabel('Profit in $10,000s')\n",
        "    plt.show()\n",
        "\n",
        "# Compute Cost\n",
        "def computeCost(X, y, theta):\n",
        "    m = len(y)\n",
        "    J = np.sum((X @ theta - y) ** 2) / (2 * m)\n",
        "    return J\n",
        "\n",
        "# Gradient Descent\n",
        "def gradientDescent(X, y, theta, alpha, num_iters):\n",
        "    m = len(y)\n",
        "    J_history = np.zeros(num_iters)\n",
        "\n",
        "    for iter in range(num_iters):\n",
        "        theta = theta - (alpha / m) * (X.T @ (X @ theta - y))     #@ es el producto punto\n",
        "        J_history[iter] = computeCost(X, y, theta)                #X.T es su transpuesta\n",
        "\n",
        "    return theta, J_history\n",
        "\n",
        "# Load data\n",
        "data = np.loadtxt('ex1data1.txt', delimiter=',')\n",
        "X = data[:, 0]\n",
        "y = data[:, 1]\n",
        "m = len(y)\n",
        "\n",
        "# Part 1: Basic Function\n",
        "print('Running warmUpExercise ...')\n",
        "print('5x5 Identity Matrix:')\n",
        "print(warmUpExercise())\n",
        "\n",
        "# Part 2: Plotting\n",
        "print('Plotting Data ...')\n",
        "plotData(X, y)\n",
        "\n",
        "# Part 3: Cost and Gradient Descent\n",
        "X = np.column_stack((np.ones(m), X))\n",
        "theta = np.zeros(2)\n",
        "theta = np.array([0, -1])\n",
        "\n",
        "iterations = 1500\n",
        "alpha = 0.01\n",
        "\n",
        "print('\\nTesting the cost function ...')\n",
        "J = computeCost(X, y, theta)\n",
        "print('With theta = [0 ; -1]\\nCost computed =', J)\n",
        "print('Expected cost value (approx) 32.07')\n",
        "\n",
        "J = computeCost(X, y, np.array([-1, 2]))\n",
        "print('\\nWith theta = [-1 ; 2]\\nCost computed =', J)\n",
        "print('Expected cost value (approx) 54.24')\n",
        "\n",
        "print('\\nRunning Gradient Descent ...')\n",
        "theta, J_history = gradientDescent(X, y, theta, alpha, iterations)\n",
        "\n",
        "print('Theta found by gradient descent:')\n",
        "print(theta)\n",
        "print('Expected theta values (approx)')\n",
        "print('-3.6303\\n 1.1664')\n",
        "\n",
        "# Plot the linear fit\n",
        "plt.scatter(X[:, 1], y, marker='x', c='r', label='Training data')\n",
        "plt.plot(X[:, 1], X @ theta, '-', label='Linear regression')\n",
        "plt.xlabel('Population of City in 10,000s')\n",
        "plt.ylabel('Profit in $10,000s')\n",
        "plt.legend()\n",
        "plt.show()\n",
        "\n",
        "# Predict values for population sizes of 35,000 and 70,000\n",
        "predict1 = np.array([1, 3.5]) @ theta\n",
        "print('For population = 35,000, we predict a profit of', predict1*10000)\n",
        "predict2 = np.array([1, 7]) @ theta\n",
        "print('For population = 70,000, we predict a profit of', predict2*10000)"
      ]
    }
  ]
}
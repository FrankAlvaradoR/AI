{
  "nbformat": 4,
  "nbformat_minor": 0,
  "metadata": {
    "colab": {
      "provenance": [],
      "authorship_tag": "ABX9TyN4c0hBClYV1EoyFLvYpSTj",
      "include_colab_link": true
    },
    "kernelspec": {
      "name": "python3",
      "display_name": "Python 3"
    },
    "language_info": {
      "name": "python"
    }
  },
  "cells": [
    {
      "cell_type": "markdown",
      "metadata": {
        "id": "view-in-github",
        "colab_type": "text"
      },
      "source": [
        "<a href=\"https://colab.research.google.com/github/FrankAlvaradoR/AI/blob/main/AI_1_SVM.ipynb\" target=\"_parent\"><img src=\"https://colab.research.google.com/assets/colab-badge.svg\" alt=\"Open In Colab\"/></a>"
      ]
    },
    {
      "cell_type": "markdown",
      "source": [
        "**Machine Learning**"
      ],
      "metadata": {
        "id": "QqjFpPZnsCLJ"
      }
    },
    {
      "cell_type": "markdown",
      "source": [
        "En el siguiente ejemplo se emplea la libreria sklearn para realizar un clasificador de genero SVM.\n",
        "Donde X corresponde al se ve calores de altura, peso y talla de zapatos. Y corresponde a las etiquetas de los generos. \n",
        "\n",
        "Cuando entrenamos el modelo y se le pide una predicción dando la estatura, peso y talla de zapatos obtenemos un resultado, en este ejemplo 1: mujer. "
      ],
      "metadata": {
        "id": "CxC-HfIRsYjT"
      }
    },
    {
      "cell_type": "code",
      "execution_count": null,
      "metadata": {
        "id": "zIyADrZnr-ZC"
      },
      "outputs": [],
      "source": [
        "#Example 3.1 Python SVM Classifications\n",
        "from sklearn import svm\n",
        "X = [[170, 70, 10], [180, 80,12], [170, 65, 8],[160, 55, 7]]\n",
        "#Height[cm], Weight[kg], Shoesize[UK]\n",
        "y = [0, 0, 1, 1] #Gender, 0: Male, 1: Female\n",
        "clf = svm.SVC()\n",
        "clf.fit(X, y)\n",
        "#Predict\n",
        "p = clf.predict([[160, 60, 7]])\n",
        "print(p)"
      ]
    },
    {
      "cell_type": "markdown",
      "source": [
        "Modifica el ejemplo anterior para que use 6 muestras de X y Y. "
      ],
      "metadata": {
        "id": "BwUsaXHWtHHF"
      }
    },
    {
      "cell_type": "code",
      "source": [
        "#Example 3.2 Python SVM Iris Classifications\n",
        "from sklearn import svm, datasets\n",
        "iris = datasets.load_iris()\n",
        "# Take the first two features: Sepal length and Sepal width\n",
        "X = iris.data[:, :2]\n",
        "y = iris.target #0: Setosa, 1: Versicolour, 2:Virginica\n",
        "print(y)\n",
        "clf = svm.SVC()\n",
        "clf.fit(X, y)\n",
        "#Predict the flower for a given Sepal length and width\n",
        "p = clf.predict([[5.4, 3.2]])\n",
        "#print(iris)\n",
        "print(p)"
      ],
      "metadata": {
        "id": "Bs4SLftqsbPH"
      },
      "execution_count": null,
      "outputs": []
    },
    {
      "cell_type": "markdown",
      "source": [
        "Modifica el ejemplo anterior para que el se realice el tercer y cuarto parámetro como elemento de entrenamiento. "
      ],
      "metadata": {
        "id": "okOMYolcurdl"
      }
    },
    {
      "cell_type": "code",
      "source": [
        "#Example 3.3 Python SVM Iris CSV Classifications\n",
        "from sklearn import svm, datasets\n",
        "import pandas as pd\n",
        "\n",
        "df = pd.read_csv('https://gist.githubusercontent.com/curran/\\\n",
        "a08a1080b88344b0c8a7/raw/0e7a9b0a5d22642a06d3d5b9bcbad9890c8ee534/\\\n",
        "iris.csv')\n",
        "X = df.values[:,:2]\n",
        "s = df['species']\n",
        "d = dict([(y,x) for x,y in enumerate(sorted(set(s)))])\n",
        "y = [d[x] for x in s]\n",
        "clf = svm.SVC()\n",
        "clf.fit(X, y)\n",
        "#Predict the flower for a given Sepal length and width\n",
        "p = clf.predict([[5.4, 3.2]])\n",
        "print(p)"
      ],
      "metadata": {
        "colab": {
          "base_uri": "https://localhost:8080/"
        },
        "id": "zC2AhW5RurLv",
        "outputId": "3a2727f5-6b54-4c2e-8f8a-75e7b02933a6"
      },
      "execution_count": 21,
      "outputs": [
        {
          "output_type": "stream",
          "name": "stdout",
          "text": [
            "[0]\n"
          ]
        }
      ]
    },
    {
      "cell_type": "code",
      "source": [
        "#Example 3.4 Python SVM Iris URL Classifications\n",
        "from sklearn import svm, datasets\n",
        "import pandas as pd\n",
        "from matplotlib import pyplot\n",
        "from pandas.plotting import scatter_matrix\n",
        "df = pd.read_csv('https://gist.githubusercontent.com/curran/\\\n",
        "a08a1080b88344b0c8a7/raw/0e7a9b0a5d22642a06d3d5b9bcbad9890c8ee534/\\\n",
        "iris.csv')\n",
        "print(df.shape)\n",
        "print(df.head(10))\n",
        "print(df.tail(10))\n",
        "print(df.describe())\n",
        "#count NAN\n",
        "print(\"La cantidad de valores nulos son:\")\n",
        "print(df.isna().sum().sum())\n",
        "#drop NAN values\n",
        "df = df.dropna()\n",
        "print(df.groupby('species').size())\n",
        "# histograms\n",
        "df.hist()\n",
        "pyplot.show()\n",
        "# scatter plot matrix\n",
        "scatter_matrix(df)\n",
        "pyplot.show()\n",
        "X = df.values[:,:2]\n",
        "s = df['species']\n",
        "d = dict([(y,x) for x,y in enumerate(sorted(set(s)))])\n",
        "y = [d[x] for x in s]\n",
        "clf = svm.SVC()\n",
        "clf.fit(X, y)\n",
        "#Predict the flower for a given Sepal length and width\n",
        "p = clf.predict([[5.4, 3.2]])\n",
        "print(p)"
      ],
      "metadata": {
        "id": "bvX5iVXIwVQB"
      },
      "execution_count": null,
      "outputs": []
    },
    {
      "cell_type": "code",
      "source": [
        "import plotly.express as px\n",
        "fig = px.scatter_matrix(df,\n",
        "    dimensions=[\"sepal_length\", \"sepal_width\", \"petal_length\", \"petal_width\"],\n",
        "    color=\"species\")\n",
        "fig.show()"
      ],
      "metadata": {
        "id": "DGKvUTlj0Wup"
      },
      "execution_count": null,
      "outputs": []
    },
    {
      "cell_type": "code",
      "source": [
        "import plotly.express as px\n",
        "fig = px.scatter_matrix(df,\n",
        "    dimensions=[\"sepal_length\", \"sepal_width\"],\n",
        "    color=\"species\")\n",
        "fig.show()"
      ],
      "metadata": {
        "id": "OHTXOkjo1GH2"
      },
      "execution_count": null,
      "outputs": []
    }
  ]
}